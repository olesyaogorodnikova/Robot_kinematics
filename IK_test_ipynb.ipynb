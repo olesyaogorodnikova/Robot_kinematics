{
 "cells": [
  {
   "cell_type": "code",
   "execution_count": 605,
   "metadata": {},
   "outputs": [],
   "source": [
    "import numpy as np\n",
    "from sympy import symbols, cos, sin, pi, simplify, sqrt, atan2, asin, acos\n",
    "from sympy.matrices import Matrix\n",
    "from numpy import array\n",
    "from numpy.linalg import inv\n",
    "\n",
    "\n"
   ]
  },
  {
   "cell_type": "code",
   "execution_count": 607,
   "metadata": {},
   "outputs": [],
   "source": [
    "d1, d2, d3, d4, d5, d6, d7 = symbols('d1:8')\n",
    "a0, a1, a2, a3, a4, a5, a6 = symbols('a0:7')\n",
    "alpha0, alpha1, alpha2, alpha3, alpha4, alpha5, alpha6 = symbols('alpha0:7')\n",
    "q1, q2, q3, q4, q5, q6, q7 = symbols('q1:8')\n",
    "\n",
    "theta1 = q1\n",
    "theta2 = q2 - pi/2\n",
    "theta3 = q3\n",
    "theta4 = q4\n",
    "theta5 = q5\n",
    "theta6 = q6\n",
    "theta7 = q7\n",
    "\n",
    "s = {alpha0:     0, a0:   0   , d1: 0.75,\n",
    "     alpha1: -pi/2, a1: 0.35  , d2: 0,\n",
    "     alpha2:     0, a2: 1.25  , d3: 0,\n",
    "     alpha3: -pi/2, a3: -0.054, d4: 1.5,\n",
    "     alpha4:  pi/2, a4:   0   , d5: 0,\n",
    "     alpha5: -pi/2, a5:   0   , d6: 0,\n",
    "     alpha6:     0, a6:   0   , d7: 0.303, q7: 0}\n"
   ]
  },
  {
   "cell_type": "code",
   "execution_count": 608,
   "metadata": {},
   "outputs": [],
   "source": [
    "def H_transform(alpha, a, d, theta):\n",
    "    A = Matrix([[            cos(theta),           -sin(theta),           0,             a],\n",
    "                [ sin(theta)*cos(alpha), cos(theta)*cos(alpha), -sin(alpha), -sin(alpha)*d],\n",
    "                [ sin(theta)*sin(alpha), cos(theta)*sin(alpha),  cos(alpha),  cos(alpha)*d],\n",
    "                [                 0,                 0,           0,             1]])\n",
    "    return A\n",
    "    "
   ]
  },
  {
   "cell_type": "code",
   "execution_count": 609,
   "metadata": {},
   "outputs": [
    {
     "name": "stdout",
     "output_type": "stream",
     "text": [
      "Matrix([[0], [0], [0.303000000000000]])\n"
     ]
    }
   ],
   "source": [
    "T0_1 = H_transform(alpha0, a0, d1, theta1)\n",
    "T1_2 = H_transform(alpha1, a1, d2, theta2)\n",
    "T2_3 = H_transform(alpha2, a2, d3, theta3)\n",
    "T3_4 = H_transform(alpha3, a3, d4, theta4)\n",
    "T4_5 = H_transform(alpha4, a4, d5, theta5)\n",
    "T5_6 = H_transform(alpha5, a5, d6, theta6)\n",
    "T6_EE = H_transform(alpha6, a6, d7, theta7)\n",
    "\n",
    "\n",
    "print(T6_EE[0:3,3].evalf(subs=s))"
   ]
  },
  {
   "cell_type": "code",
   "execution_count": 612,
   "metadata": {},
   "outputs": [
    {
     "name": "stdout",
     "output_type": "stream",
     "text": [
      "Matrix([[2.16298054661547], [-1.42438431475958], [1.54309861553709]])\n",
      "R0_3= Matrix([[sin(q2 + q3)*cos(q1), cos(q1)*cos(q2 + q3), -sin(q1)], [sin(q1)*sin(q2 + q3), sin(q1)*cos(q2 + q3), cos(q1)], [cos(q2 + q3), -sin(q2 + q3), 0]])\n",
      "R0_3T= Matrix([[sin(q2 + q3)*cos(q1), sin(q1)*sin(q2 + q3), cos(q2 + q3)], [cos(q1)*cos(q2 + q3), sin(q1)*cos(q2 + q3), -sin(q2 + q3)], [-sin(q1), cos(q1), 0]])\n"
     ]
    }
   ],
   "source": [
    "T0_1 = T0_1.subs(s)\n",
    "T1_2 = T1_2.subs(s)\n",
    "T2_3 = T2_3.subs(s)\n",
    "T3_4 = T3_4.subs(s)\n",
    "T4_5 = T4_5.subs(s)\n",
    "T5_6 = T5_6.subs(s)\n",
    "T6_EE = T6_EE.subs(s)\n",
    "T0_6 = simplify(T0_1*T1_2*T2_3*T3_4*T4_5*T5_6)\n",
    "T0_EE = simplify(T0_1*T1_2*T2_3*T3_4*T4_5*T5_6*T6_EE)\n",
    "T0_3 = simplify(T0_1*T1_2*T2_3)\n",
    "T3_6 = simplify(T3_4*T4_5*T5_6)\n",
    "R3_6 = T3_6 [:3, :3]\n",
    "R0_3 = T0_3 [:3, :3]\n",
    "R0_3T = T0_3[:3, :3].transpose()\n",
    "\n",
    "print (T0_EE[0:3,3].evalf(subs={q1:-0.65, q2:0.45, q3:-0.36, q4:0.95, q5:0.79, q6:0.49}))\n",
    "\n",
    "\n",
    "print (\"R0_3=\",R0_3)\n",
    "print (\"R0_3T=\",R0_3T) \n"
   ]
  },
  {
   "cell_type": "code",
   "execution_count": 613,
   "metadata": {},
   "outputs": [],
   "source": [
    "def R_Rotation(roll, pitch, yaw):\n",
    "    R_x = Matrix([[1,         0,          0],\n",
    "                  [0, cos(roll), -sin(roll)],\n",
    "                  [0, sin(roll),  cos(roll)]])\n",
    "\n",
    "    R_y = Matrix([[ cos(pitch), 0, sin(pitch)],\n",
    "                  [          0, 1,          0],\n",
    "                  [-sin(pitch), 0, cos(pitch)]])\n",
    "\n",
    "    R_z = Matrix([[cos(yaw),-sin(yaw), 0],\n",
    "                  [sin(yaw), cos(yaw), 0],\n",
    "                  [       0,        0, 1]])\n",
    "\n",
    "    return R_z*R_y*R_x\n",
    "\n",
    "def R_correction(roll, pitch, yaw):\n",
    "    R_x = Matrix([[1,         0,          0],\n",
    "                  [0, cos(roll), -sin(roll)],\n",
    "                  [0, sin(roll),  cos(roll)]])\n",
    "\n",
    "    R_y = Matrix([[ cos(pitch), 0, sin(pitch)],\n",
    "                  [          0, 1,          0],\n",
    "                  [-sin(pitch), 0, cos(pitch)]])\n",
    "\n",
    "    R_z = Matrix([[cos(yaw),-sin(yaw), 0],\n",
    "                  [sin(yaw), cos(yaw), 0],\n",
    "                  [       0,        0, 1]])\n",
    "\n",
    "    return R_z*R_y"
   ]
  },
  {
   "cell_type": "code",
   "execution_count": 614,
   "metadata": {},
   "outputs": [],
   "source": [
    " # from the test cases\n",
    "    \n",
    "px = 2.16135\n",
    "py = -1.42635\n",
    "pz = 1.55109\n",
    "\n",
    "roll = 0.708611\n",
    "pitch = 0.186356\n",
    "yaw = -0.157931\n"
   ]
  },
  {
   "cell_type": "code",
   "execution_count": 615,
   "metadata": {},
   "outputs": [
    {
     "name": "stdout",
     "output_type": "stream",
     "text": [
      "R0_EE= Matrix([[0.0365739909998583, -0.238489249459210, 0.970456192249153], [-0.664805602129873, -0.730853695260488, -0.154552216098079], [0.746120536213204, -0.639512121868283, -0.185279225560902]])\n",
      "wx= 1.86730177374851\n",
      "wy= -1.37952067852228\n",
      "wz= 1.60722960534495\n"
     ]
    }
   ],
   "source": [
    "R0_rpy = R_Rotation(roll, pitch, yaw) # end effector rotation matrix in URDF frame\n",
    "\n",
    "R_corr = R_correction(0,-pi/2, pi) # rotation around y and z\n",
    "\n",
    "R0_EE = R0_rpy*R_corr # corrected orientation matrix of the end effector matrix\n",
    "            \n",
    "wx = px - 0.303*R0_EE[0,2] \n",
    "wy = py - 0.303*R0_EE[1,2]\n",
    "wz = pz - 0.303*R0_EE[2,2]\n",
    "\n",
    "\n",
    "\n",
    "print(\"R0_EE=\",R0_EE)\n",
    "print(\"wx=\", wx)\n",
    "print(\"wy=\", wy)\n",
    "print(\"wz=\", wz)\n",
    "\n",
    "\n"
   ]
  },
  {
   "cell_type": "code",
   "execution_count": 616,
   "metadata": {
    "scrolled": false
   },
   "outputs": [
    {
     "name": "stdout",
     "output_type": "stream",
     "text": [
      "q1= -0.636279983937866\n",
      "q2= 0.410401660065528\n",
      "q3= -0.252653773154244\n",
      "Matrix([[0.126352922238237, 0.794325108297270, 0.594207506995989], [-0.0933467056422568, -0.586829578256010, 0.804311779492015], [0.987583582076776, -0.157094456975426, 0]])\n"
     ]
    }
   ],
   "source": [
    "\n",
    "\n",
    "x = sqrt(wx**2 + wy**2)\n",
    "w = atan2(wz - d1, x-a1)\n",
    "b = sqrt((wz -d1)**2 + (x-a1)**2)\n",
    "c = sqrt(d4**2 + 0.054**2)\n",
    "A = acos((b**2 + a2**2 - c**2)/(2*b*a2))       \n",
    "B = acos((a2**2 + c**2 - b**2)/(2*a2*c))\n",
    "\n",
    "theta1 = atan2(wy, wx)# q1\n",
    "theta1 = theta1.evalf(subs=s)\n",
    "theta2 = pi/2 - w - A # q2\n",
    "theta2 = theta2.evalf(subs=s)\n",
    "theta3 = pi/2 - B + atan2(a3, d4) # q3\n",
    "theta3 = theta3.evalf(subs=s)\n",
    "\n",
    "T0_3 = T0_3.evalf(subs={q1: theta1, q2: theta2, q3: theta3})\n",
    "R3_6 = T0_3[:3, :3].inv(\"LU\")* R0_EE\n",
    "\n",
    "#R3_6 = inv(array(R0_3, dtype='float')) * R0_EE\n",
    "\n",
    "print(\"q1=\", theta1)\n",
    "print(\"q2=\", theta2)\n",
    "print(\"q3=\", theta3)\n",
    "\n",
    "print(T0_3[:3, :3])\n",
    "\n"
   ]
  },
  {
   "cell_type": "code",
   "execution_count": 617,
   "metadata": {},
   "outputs": [
    {
     "name": "stdout",
     "output_type": "stream",
     "text": [
      "q4= 1.46960145630108\n",
      "q5= 0.472001895809933\n",
      "q6= -0.844444132991418\n",
      "\n",
      "Theta 1 error is: 0.01372002\n",
      "Theta 2 error is: 0.03959834\n",
      "Theta 3 error is: 0.10734623\n",
      "Theta 4 error is: 0.51960146\n",
      "Theta 5 error is: 0.31799810\n",
      "Theta 6 error is: 1.33444413\n"
     ]
    }
   ],
   "source": [
    "r12, r13 = R3_6 [0,1], R3_6 [0,2]\n",
    "r21, r22, r23 = R3_6 [1,0], R3_6 [1,1], R3_6 [1,2] \n",
    "r32, r33 = R3_6 [2,1], R3_6 [2,2]\n",
    "\n",
    "theta4 = atan2(r33, -r13) # q4\n",
    "theta4 = theta4.evalf()\n",
    "\n",
    "theta5 = atan2(sqrt(r13**2 + r33**2),r23) # q5\n",
    "theta5 = theta5.evalf()\n",
    "\n",
    "theta6 = atan2(-r22, +r21) # q6\n",
    "theta6 = theta6.evalf()\n",
    "\n",
    "test_case = [[[2.16135,-1.42635,1.55109],\n",
    "                  [0.708611,0.186356,-0.157931,0.661967]],\n",
    "                  [1.89451,-1.44302,1.69366],\n",
    "                  [-0.65,0.45,-0.36,0.95,0.79,0.49]]\n",
    "\n",
    "t_1_e = abs(theta1-test_case[2][0])\n",
    "t_2_e = abs(theta2-test_case[2][1])\n",
    "t_3_e = abs(theta3-test_case[2][2])\n",
    "t_4_e = abs(theta4-test_case[2][3])\n",
    "t_5_e = abs(theta5-test_case[2][4])\n",
    "t_6_e = abs(theta6-test_case[2][5])\n",
    "    \n",
    "print(\"q4=\", theta4)\n",
    "print(\"q5=\", theta5)\n",
    "print(\"q6=\", theta6)\n",
    "\n",
    "print (\"\\nTheta 1 error is: %04.8f\" % t_1_e)\n",
    "print (\"Theta 2 error is: %04.8f\" % t_2_e)\n",
    "print (\"Theta 3 error is: %04.8f\" % t_3_e)\n",
    "print (\"Theta 4 error is: %04.8f\" % t_4_e)\n",
    "print (\"Theta 5 error is: %04.8f\" % t_5_e)\n",
    "print (\"Theta 6 error is: %04.8f\" % t_6_e)\n"
   ]
  },
  {
   "cell_type": "code",
   "execution_count": 619,
   "metadata": {},
   "outputs": [
    {
     "name": "stdout",
     "output_type": "stream",
     "text": [
      "T_total =  [Matrix([\n",
      "[0.0365739909998575, -0.238489249459209,  0.970456192249153],\n",
      "[-0.664805602129874, -0.730853695260487, -0.154552216098079],\n",
      "[ 0.746120536213203, -0.639512121868284, -0.185279225560901]])] [Matrix([\n",
      "[ 2.16135],\n",
      "[-1.42635],\n",
      "[ 1.55109]])]\n"
     ]
    }
   ],
   "source": [
    "state = {q1:theta1, q2:theta2, q3: theta3, \n",
    "         q4:theta4, q5:theta5, q6: theta6}\n",
    "\n",
    "T_total_pos = T0_EE[0:3,3]\n",
    "T_total_or = T0_EE[:3,:3] \n",
    "\n",
    "print(\"T_total = \", [T_total_or.evalf(subs=state)],\n",
    "                     [T_total_pos.evalf(subs=state)])\n"
   ]
  },
  {
   "cell_type": "code",
   "execution_count": 620,
   "metadata": {},
   "outputs": [
    {
     "name": "stdout",
     "output_type": "stream",
     "text": [
      "T_position =  Matrix([[2.16135000000000], [-1.42635000000000], [1.55109000000000]])\n",
      "T_orientation =  Matrix([[0.0365739909998575, -0.238489249459209, 0.970456192249153], [-0.664805602129874, -0.730853695260487, -0.154552216098079], [0.746120536213203, -0.639512121868284, -0.185279225560901]])\n"
     ]
    }
   ],
   "source": [
    "T_total_pos = T0_EE[0:3,3]\n",
    "T_total_or = T0_EE[:3,:3] \n",
    "\n",
    "print(\"T_position = \", T_total_pos.evalf(subs=state))\n",
    "\n",
    "print(\"T_orientation = \", T_total_or.evalf(subs=state))\n",
    "\n"
   ]
  },
  {
   "cell_type": "code",
   "execution_count": 624,
   "metadata": {},
   "outputs": [
    {
     "name": "stdout",
     "output_type": "stream",
     "text": [
      "wc_error= 0.110646574841294\n",
      "ee_error= 2.22044604925031e-16\n",
      "T0_EE= Matrix([[0.0365739909998575, -0.238489249459209, 0.970456192249153, 2.16135000000000], [-0.664805602129874, -0.730853695260487, -0.154552216098079, -1.42635000000000], [0.746120536213203, -0.639512121868284, -0.185279225560901, 1.55109000000000], [0, 0, 0, 1.00000000000000]])\n"
     ]
    }
   ],
   "source": [
    "test_case = [[[2.16135,-1.42635,1.55109],\n",
    "                  [0.708611,0.186356,-0.157931,0.661967]],\n",
    "                  [1.89451,-1.44302,1.69366],\n",
    "                  [-0.65,0.45,-0.36,0.95,0.79,0.49]]\n",
    "\n",
    "T0_EE = simplify(T0_1*T1_2*T2_3*T3_4*T4_5*T5_6*T6_EE)\n",
    "              \n",
    "wc_x = abs(wx-test_case[1][0])\n",
    "wc_y = abs(wy-test_case[1][1])\n",
    "wc_z = abs(wz-test_case[1][2])\n",
    "wc_offset = sqrt(wc_x**2 + wc_y**2 + wc_z**2)\n",
    "\n",
    "ee_x_e = abs(T0_EE[0, 3].evalf(subs={q1: theta1, q2: theta2, q3: theta3, q4: theta4, q5: theta5, q6: theta6})-test_case[0][0][0])\n",
    "ee_y_e = abs(T0_EE[1, 3].evalf(subs={q1: theta1, q2: theta2, q3: theta3, q4: theta4, q5: theta5, q6: theta6})-test_case[0][0][1])\n",
    "ee_z_e = abs(T0_EE[2, 3].evalf(subs={q1: theta1, q2: theta2, q3: theta3, q4: theta4, q5: theta5, q6: theta6})-test_case[0][0][2])\n",
    "ee_offset = sqrt(ee_x_e**2 + ee_y_e**2 + ee_z_e**2)\n",
    "              \n",
    "print(\"wc_error=\",wc_offset) \n",
    "\n",
    "print(\"ee_error=\",ee_offset)  \n",
    "\n",
    "print(\"T0_EE=\",T0_EE.evalf(subs={q1: theta1, q2: theta2, q3: theta3, q4: theta4, q5: theta5, q6: theta6}))\n",
    "\n"
   ]
  },
  {
   "cell_type": "code",
   "execution_count": 626,
   "metadata": {},
   "outputs": [
    {
     "name": "stdout",
     "output_type": "stream",
     "text": [
      "error= 0.00840138488080479\n"
     ]
    }
   ],
   "source": [
    "P_EE = Matrix([[2.16298054661547], [-1.42438431475958], [1.54309861553709]])\n",
    "\n",
    "P_FK = Matrix([[2.1614], [-1.4264], [1.5511]])\n",
    "\n",
    "error = P_FK-P_EE\n",
    "error.norm()\n",
    "         \n",
    "print (\"error=\",error.norm())"
   ]
  },
  {
   "cell_type": "code",
   "execution_count": null,
   "metadata": {},
   "outputs": [],
   "source": [
    "\n",
    "        "
   ]
  },
  {
   "cell_type": "code",
   "execution_count": null,
   "metadata": {},
   "outputs": [],
   "source": []
  }
 ],
 "metadata": {
  "kernelspec": {
   "display_name": "Python 3",
   "language": "python",
   "name": "python3"
  },
  "language_info": {
   "codemirror_mode": {
    "name": "ipython",
    "version": 3
   },
   "file_extension": ".py",
   "mimetype": "text/x-python",
   "name": "python",
   "nbconvert_exporter": "python",
   "pygments_lexer": "ipython3",
   "version": "3.5.2"
  },
  "widgets": {
   "state": {},
   "version": "1.1.2"
  }
 },
 "nbformat": 4,
 "nbformat_minor": 2
}
